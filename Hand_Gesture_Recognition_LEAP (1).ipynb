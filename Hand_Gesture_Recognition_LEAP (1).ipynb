{
  "cells": [
    {
      "cell_type": "markdown",
      "metadata": {
        "id": "-5xOdzPQTZM_"
      },
      "source": [
        "# Hand Gesture Recognition using LEAP GestRecog Dataset\n",
        "This notebook loads, preprocesses, and trains a CNN model on the LEAP hand gesture recognition dataset."
      ]
    },
    {
      "cell_type": "code",
      "source": [
        "# Install Kaggle API if not installed\n",
        "!pip install -q kaggle\n",
        "\n",
        "# Setup Kaggle API credentials\n",
        "import os\n",
        "if not os.path.exists(\"/root/.kaggle/kaggle.json\"):\n",
        "    from google.colab import files\n",
        "    print(\"Upload your kaggle.json file (you can get it from your Kaggle account)\")\n",
        "    files.upload()  # Upload kaggle.json here manually\n",
        "\n",
        "# Move kaggle.json to the right location and set permissions\n",
        "!mkdir -p ~/.kaggle\n",
        "!cp kaggle.json ~/.kaggle/\n",
        "!chmod 600 ~/.kaggle/kaggle.json\n",
        "\n",
        "# Download the dataset directly from Kaggle\n",
        "!kaggle datasets download -d gti-upm/leapgestrecog --force\n",
        "\n",
        "# Unzip the downloaded dataset\n",
        "!unzip -q leapgestrecog.zip -d /content/leapgestrecog\n",
        "\n",
        "print(\"Dataset downloaded and extracted to /content/leapgestrecog\")\n"
      ],
      "metadata": {
        "colab": {
          "base_uri": "https://localhost:8080/",
          "height": 200
        },
        "id": "QFzwgYctULe4",
        "outputId": "aba7147b-e183-42a8-b0cc-1555f0e9b4b0"
      },
      "execution_count": 2,
      "outputs": [
        {
          "output_type": "stream",
          "name": "stdout",
          "text": [
            "Upload your kaggle.json file (you can get it from your Kaggle account)\n"
          ]
        },
        {
          "output_type": "display_data",
          "data": {
            "text/plain": [
              "<IPython.core.display.HTML object>"
            ],
            "text/html": [
              "\n",
              "     <input type=\"file\" id=\"files-50857e06-0797-4372-8e69-2e985069e88a\" name=\"files[]\" multiple disabled\n",
              "        style=\"border:none\" />\n",
              "     <output id=\"result-50857e06-0797-4372-8e69-2e985069e88a\">\n",
              "      Upload widget is only available when the cell has been executed in the\n",
              "      current browser session. Please rerun this cell to enable.\n",
              "      </output>\n",
              "      <script>// Copyright 2017 Google LLC\n",
              "//\n",
              "// Licensed under the Apache License, Version 2.0 (the \"License\");\n",
              "// you may not use this file except in compliance with the License.\n",
              "// You may obtain a copy of the License at\n",
              "//\n",
              "//      http://www.apache.org/licenses/LICENSE-2.0\n",
              "//\n",
              "// Unless required by applicable law or agreed to in writing, software\n",
              "// distributed under the License is distributed on an \"AS IS\" BASIS,\n",
              "// WITHOUT WARRANTIES OR CONDITIONS OF ANY KIND, either express or implied.\n",
              "// See the License for the specific language governing permissions and\n",
              "// limitations under the License.\n",
              "\n",
              "/**\n",
              " * @fileoverview Helpers for google.colab Python module.\n",
              " */\n",
              "(function(scope) {\n",
              "function span(text, styleAttributes = {}) {\n",
              "  const element = document.createElement('span');\n",
              "  element.textContent = text;\n",
              "  for (const key of Object.keys(styleAttributes)) {\n",
              "    element.style[key] = styleAttributes[key];\n",
              "  }\n",
              "  return element;\n",
              "}\n",
              "\n",
              "// Max number of bytes which will be uploaded at a time.\n",
              "const MAX_PAYLOAD_SIZE = 100 * 1024;\n",
              "\n",
              "function _uploadFiles(inputId, outputId) {\n",
              "  const steps = uploadFilesStep(inputId, outputId);\n",
              "  const outputElement = document.getElementById(outputId);\n",
              "  // Cache steps on the outputElement to make it available for the next call\n",
              "  // to uploadFilesContinue from Python.\n",
              "  outputElement.steps = steps;\n",
              "\n",
              "  return _uploadFilesContinue(outputId);\n",
              "}\n",
              "\n",
              "// This is roughly an async generator (not supported in the browser yet),\n",
              "// where there are multiple asynchronous steps and the Python side is going\n",
              "// to poll for completion of each step.\n",
              "// This uses a Promise to block the python side on completion of each step,\n",
              "// then passes the result of the previous step as the input to the next step.\n",
              "function _uploadFilesContinue(outputId) {\n",
              "  const outputElement = document.getElementById(outputId);\n",
              "  const steps = outputElement.steps;\n",
              "\n",
              "  const next = steps.next(outputElement.lastPromiseValue);\n",
              "  return Promise.resolve(next.value.promise).then((value) => {\n",
              "    // Cache the last promise value to make it available to the next\n",
              "    // step of the generator.\n",
              "    outputElement.lastPromiseValue = value;\n",
              "    return next.value.response;\n",
              "  });\n",
              "}\n",
              "\n",
              "/**\n",
              " * Generator function which is called between each async step of the upload\n",
              " * process.\n",
              " * @param {string} inputId Element ID of the input file picker element.\n",
              " * @param {string} outputId Element ID of the output display.\n",
              " * @return {!Iterable<!Object>} Iterable of next steps.\n",
              " */\n",
              "function* uploadFilesStep(inputId, outputId) {\n",
              "  const inputElement = document.getElementById(inputId);\n",
              "  inputElement.disabled = false;\n",
              "\n",
              "  const outputElement = document.getElementById(outputId);\n",
              "  outputElement.innerHTML = '';\n",
              "\n",
              "  const pickedPromise = new Promise((resolve) => {\n",
              "    inputElement.addEventListener('change', (e) => {\n",
              "      resolve(e.target.files);\n",
              "    });\n",
              "  });\n",
              "\n",
              "  const cancel = document.createElement('button');\n",
              "  inputElement.parentElement.appendChild(cancel);\n",
              "  cancel.textContent = 'Cancel upload';\n",
              "  const cancelPromise = new Promise((resolve) => {\n",
              "    cancel.onclick = () => {\n",
              "      resolve(null);\n",
              "    };\n",
              "  });\n",
              "\n",
              "  // Wait for the user to pick the files.\n",
              "  const files = yield {\n",
              "    promise: Promise.race([pickedPromise, cancelPromise]),\n",
              "    response: {\n",
              "      action: 'starting',\n",
              "    }\n",
              "  };\n",
              "\n",
              "  cancel.remove();\n",
              "\n",
              "  // Disable the input element since further picks are not allowed.\n",
              "  inputElement.disabled = true;\n",
              "\n",
              "  if (!files) {\n",
              "    return {\n",
              "      response: {\n",
              "        action: 'complete',\n",
              "      }\n",
              "    };\n",
              "  }\n",
              "\n",
              "  for (const file of files) {\n",
              "    const li = document.createElement('li');\n",
              "    li.append(span(file.name, {fontWeight: 'bold'}));\n",
              "    li.append(span(\n",
              "        `(${file.type || 'n/a'}) - ${file.size} bytes, ` +\n",
              "        `last modified: ${\n",
              "            file.lastModifiedDate ? file.lastModifiedDate.toLocaleDateString() :\n",
              "                                    'n/a'} - `));\n",
              "    const percent = span('0% done');\n",
              "    li.appendChild(percent);\n",
              "\n",
              "    outputElement.appendChild(li);\n",
              "\n",
              "    const fileDataPromise = new Promise((resolve) => {\n",
              "      const reader = new FileReader();\n",
              "      reader.onload = (e) => {\n",
              "        resolve(e.target.result);\n",
              "      };\n",
              "      reader.readAsArrayBuffer(file);\n",
              "    });\n",
              "    // Wait for the data to be ready.\n",
              "    let fileData = yield {\n",
              "      promise: fileDataPromise,\n",
              "      response: {\n",
              "        action: 'continue',\n",
              "      }\n",
              "    };\n",
              "\n",
              "    // Use a chunked sending to avoid message size limits. See b/62115660.\n",
              "    let position = 0;\n",
              "    do {\n",
              "      const length = Math.min(fileData.byteLength - position, MAX_PAYLOAD_SIZE);\n",
              "      const chunk = new Uint8Array(fileData, position, length);\n",
              "      position += length;\n",
              "\n",
              "      const base64 = btoa(String.fromCharCode.apply(null, chunk));\n",
              "      yield {\n",
              "        response: {\n",
              "          action: 'append',\n",
              "          file: file.name,\n",
              "          data: base64,\n",
              "        },\n",
              "      };\n",
              "\n",
              "      let percentDone = fileData.byteLength === 0 ?\n",
              "          100 :\n",
              "          Math.round((position / fileData.byteLength) * 100);\n",
              "      percent.textContent = `${percentDone}% done`;\n",
              "\n",
              "    } while (position < fileData.byteLength);\n",
              "  }\n",
              "\n",
              "  // All done.\n",
              "  yield {\n",
              "    response: {\n",
              "      action: 'complete',\n",
              "    }\n",
              "  };\n",
              "}\n",
              "\n",
              "scope.google = scope.google || {};\n",
              "scope.google.colab = scope.google.colab || {};\n",
              "scope.google.colab._files = {\n",
              "  _uploadFiles,\n",
              "  _uploadFilesContinue,\n",
              "};\n",
              "})(self);\n",
              "</script> "
            ]
          },
          "metadata": {}
        },
        {
          "output_type": "stream",
          "name": "stdout",
          "text": [
            "Saving kaggle.json to kaggle.json\n",
            "Dataset URL: https://www.kaggle.com/datasets/gti-upm/leapgestrecog\n",
            "License(s): CC-BY-NC-SA-4.0\n",
            "Downloading leapgestrecog.zip to /content\n",
            " 99% 2.12G/2.13G [00:25<00:00, 49.4MB/s]\n",
            "100% 2.13G/2.13G [00:25<00:00, 89.3MB/s]\n",
            "Dataset downloaded and extracted to /content/leapgestrecog\n"
          ]
        }
      ]
    },
    {
      "cell_type": "code",
      "execution_count": 3,
      "metadata": {
        "id": "ePf-h9ZzTZNC"
      },
      "outputs": [],
      "source": [
        "# Install required packages\n",
        "!pip install -q tensorflow opencv-python"
      ]
    },
    {
      "cell_type": "code",
      "execution_count": 4,
      "metadata": {
        "id": "KBCS3YnZTZND"
      },
      "outputs": [],
      "source": [
        "import os\n",
        "import cv2\n",
        "import numpy as np\n",
        "from sklearn.model_selection import train_test_split\n",
        "from tensorflow.keras.utils import to_categorical\n",
        "from tensorflow.keras.models import Sequential\n",
        "from tensorflow.keras.layers import Conv2D, MaxPooling2D, Flatten, Dense, Dropout\n",
        "import matplotlib.pyplot as plt"
      ]
    },
    {
      "cell_type": "code",
      "execution_count": 5,
      "metadata": {
        "colab": {
          "base_uri": "https://localhost:8080/"
        },
        "id": "-mRsihVNTZNE",
        "outputId": "f6842a7e-7af5-4951-fe27-fa6acb0213a4"
      },
      "outputs": [
        {
          "output_type": "stream",
          "name": "stdout",
          "text": [
            "Number of images loaded: 0\n",
            "Label map: {}\n"
          ]
        }
      ],
      "source": [
        "# Configuration\n",
        "IMG_SIZE = 64\n",
        "DATA_DIR = \"/content/leapgestrecog/leapGestRecog\"  # Make sure this path matches your uploaded folder\n",
        "X, y = [], []\n",
        "label_map = {}\n",
        "label_index = 0\n",
        "\n",
        "def load_images_from_folder(folder_path, label):\n",
        "    for img_name in os.listdir(folder_path):\n",
        "        img_path = os.path.join(folder_path, img_name)\n",
        "        img = cv2.imread(img_path, cv2.IMREAD_GRAYSCALE)\n",
        "        if img is not None:\n",
        "            img = cv2.resize(img, (IMG_SIZE, IMG_SIZE))\n",
        "            X.append(img)\n",
        "            y.append(label)\n",
        "\n",
        "# Walk through dataset\n",
        "for subject_folder in sorted(os.listdir(DATA_DIR)):\n",
        "    subject_path = os.path.join(DATA_DIR, subject_folder)\n",
        "    if os.path.isdir(subject_path):\n",
        "        for gesture_folder in os.listdir(subject_path):\n",
        "            gesture_path = os.path.join(subject_path, gesture_folder)\n",
        "            if os.path.isdir(gesture_path) and gesture_folder.startswith(\"gesture\"):\n",
        "                gesture_num = int(gesture_folder.replace(\"gesture\", \"\"))\n",
        "                if gesture_num not in label_map:\n",
        "                    label_map[gesture_num] = label_index\n",
        "                    label_index += 1\n",
        "                load_images_from_folder(gesture_path, label_map[gesture_num])\n",
        "\n",
        "print(\"Number of images loaded:\", len(X))\n",
        "print(\"Label map:\", label_map)"
      ]
    },
    {
      "cell_type": "code",
      "source": [
        "import os\n",
        "import cv2\n",
        "\n",
        "DATA_DIR = \"/content/leapgestrecog/leapGestRecog\"\n",
        "\n",
        "X = []\n",
        "y = []\n",
        "IMG_SIZE = 64\n",
        "\n",
        "# Check classes folders inside DATA_DIR\n",
        "classes = os.listdir(DATA_DIR)\n",
        "print(\"Classes found:\", classes)\n",
        "\n",
        "for label_idx, class_name in enumerate(classes):\n",
        "    class_dir = os.path.join(DATA_DIR, class_name)\n",
        "    if not os.path.isdir(class_dir):\n",
        "        continue\n",
        "    print(f\"Loading class '{class_name}'\")\n",
        "    for file_name in os.listdir(class_dir):\n",
        "        if file_name.endswith(\".png\") or file_name.endswith(\".jpg\"):\n",
        "            img_path = os.path.join(class_dir, file_name)\n",
        "            img = cv2.imread(img_path, cv2.IMREAD_GRAYSCALE)\n",
        "            if img is None:\n",
        "                print(f\"Failed to load image: {img_path}\")\n",
        "                continue\n",
        "            img = cv2.resize(img, (IMG_SIZE, IMG_SIZE))\n",
        "            X.append(img)\n",
        "            y.append(label_idx)\n",
        "\n",
        "print(f\"Loaded {len(X)} images and {len(y)} labels\")\n"
      ],
      "metadata": {
        "colab": {
          "base_uri": "https://localhost:8080/"
        },
        "id": "NueY8bPRVNHG",
        "outputId": "55443aa5-5d24-4d73-bd60-4478731a8d18"
      },
      "execution_count": 6,
      "outputs": [
        {
          "output_type": "stream",
          "name": "stdout",
          "text": [
            "Classes found: ['01', '06', '03', '04', '05', '02', '07', '00', '08', '09']\n",
            "Loading class '01'\n",
            "Loading class '06'\n",
            "Loading class '03'\n",
            "Loading class '04'\n",
            "Loading class '05'\n",
            "Loading class '02'\n",
            "Loading class '07'\n",
            "Loading class '00'\n",
            "Loading class '08'\n",
            "Loading class '09'\n",
            "Loaded 0 images and 0 labels\n"
          ]
        }
      ]
    },
    {
      "cell_type": "code",
      "source": [
        "for file_name in os.listdir(class_dir):\n",
        "    if file_name.lower().endswith(('.png', '.jpg', '.jpeg', '.bmp')):\n",
        "        img_path = os.path.join(class_dir, file_name)\n",
        "        # rest of the code\n"
      ],
      "metadata": {
        "id": "VP1A1SV9VX_J"
      },
      "execution_count": 7,
      "outputs": []
    },
    {
      "cell_type": "code",
      "source": [
        "for root, dirs, files in os.walk(class_dir):\n",
        "    for file_name in files:\n",
        "        if file_name.lower().endswith(('.png', '.jpg', '.jpeg', '.bmp')):\n",
        "            img_path = os.path.join(root, file_name)\n",
        "            # rest of the code\n"
      ],
      "metadata": {
        "id": "XKfkydg2Vc8q"
      },
      "execution_count": 8,
      "outputs": []
    },
    {
      "cell_type": "code",
      "source": [
        "import os\n",
        "import cv2\n",
        "\n",
        "DATA_DIR = \"/content/leapgestrecog/leapGestRecog\"\n",
        "\n",
        "X = []\n",
        "y = []\n",
        "IMG_SIZE = 64\n",
        "\n",
        "classes = os.listdir(DATA_DIR)\n",
        "print(\"Classes found:\", classes)\n",
        "\n",
        "for label_idx, class_name in enumerate(classes):\n",
        "    class_dir = os.path.join(DATA_DIR, class_name)\n",
        "    if not os.path.isdir(class_dir):\n",
        "        continue\n",
        "    print(f\"Loading class '{class_name}'\")\n",
        "    print(f\"Files in {class_dir}: {os.listdir(class_dir)}\")  # Debug print\n",
        "\n",
        "    for root, dirs, files in os.walk(class_dir):\n",
        "        for file_name in files:\n",
        "            if file_name.lower().endswith(('.png', '.jpg', '.jpeg', '.bmp')):\n",
        "                img_path = os.path.join(root, file_name)\n",
        "                img = cv2.imread(img_path, cv2.IMREAD_GRAYSCALE)\n",
        "                if img is None:\n",
        "                    print(f\"Failed to load image: {img_path}\")\n",
        "                    continue\n",
        "                img = cv2.resize(img, (IMG_SIZE, IMG_SIZE))\n",
        "                X.append(img)\n",
        "                y.append(label_idx)\n",
        "\n",
        "print(f\"Loaded {len(X)} images and {len(y)} labels\")\n"
      ],
      "metadata": {
        "colab": {
          "base_uri": "https://localhost:8080/"
        },
        "id": "abLktOdxVdpe",
        "outputId": "e170874f-1e05-482e-99ce-49d093cf777e"
      },
      "execution_count": 9,
      "outputs": [
        {
          "output_type": "stream",
          "name": "stdout",
          "text": [
            "Classes found: ['01', '06', '03', '04', '05', '02', '07', '00', '08', '09']\n",
            "Loading class '01'\n",
            "Files in /content/leapgestrecog/leapGestRecog/01: ['05_thumb', '07_ok', '06_index', '09_c', '01_palm', '03_fist', '04_fist_moved', '10_down', '02_l', '08_palm_moved']\n",
            "Loading class '06'\n",
            "Files in /content/leapgestrecog/leapGestRecog/06: ['05_thumb', '07_ok', '06_index', '09_c', '01_palm', '03_fist', '04_fist_moved', '10_down', '02_l', '08_palm_moved']\n",
            "Loading class '03'\n",
            "Files in /content/leapgestrecog/leapGestRecog/03: ['05_thumb', '07_ok', '06_index', '09_c', '01_palm', '03_fist', '04_fist_moved', '10_down', '02_l', '08_palm_moved']\n",
            "Loading class '04'\n",
            "Files in /content/leapgestrecog/leapGestRecog/04: ['05_thumb', '07_ok', '06_index', '09_c', '01_palm', '03_fist', '04_fist_moved', '10_down', '02_l', '08_palm_moved']\n",
            "Loading class '05'\n",
            "Files in /content/leapgestrecog/leapGestRecog/05: ['05_thumb', '07_ok', '06_index', '09_c', '01_palm', '03_fist', '04_fist_moved', '10_down', '02_l', '08_palm_moved']\n",
            "Loading class '02'\n",
            "Files in /content/leapgestrecog/leapGestRecog/02: ['05_thumb', '07_ok', '06_index', '09_c', '01_palm', '03_fist', '04_fist_moved', '10_down', '02_l', '08_palm_moved']\n",
            "Loading class '07'\n",
            "Files in /content/leapgestrecog/leapGestRecog/07: ['05_thumb', '07_ok', '06_index', '09_c', '01_palm', '03_fist', '04_fist_moved', '10_down', '02_l', '08_palm_moved']\n",
            "Loading class '00'\n",
            "Files in /content/leapgestrecog/leapGestRecog/00: ['05_thumb', '07_ok', '06_index', '09_c', '01_palm', '03_fist', '04_fist_moved', '10_down', '02_l', '08_palm_moved']\n",
            "Loading class '08'\n",
            "Files in /content/leapgestrecog/leapGestRecog/08: ['05_thumb', '07_ok', '06_index', '09_c', '01_palm', '03_fist', '04_fist_moved', '10_down', '02_l', '08_palm_moved']\n",
            "Loading class '09'\n",
            "Files in /content/leapgestrecog/leapGestRecog/09: ['05_thumb', '07_ok', '06_index', '09_c', '01_palm', '03_fist', '04_fist_moved', '10_down', '02_l', '08_palm_moved']\n",
            "Loaded 20000 images and 20000 labels\n"
          ]
        }
      ]
    },
    {
      "cell_type": "code",
      "source": [
        "import numpy as np\n",
        "from tensorflow.keras.utils import to_categorical\n",
        "from sklearn.model_selection import train_test_split\n",
        "\n",
        "# Convert lists to arrays and normalize pixel values to [0,1]\n",
        "X = np.array(X).reshape(-1, IMG_SIZE, IMG_SIZE, 1).astype(\"float32\") / 255.0\n",
        "\n",
        "# One-hot encode labels\n",
        "y = to_categorical(y, num_classes=len(classes))\n",
        "\n",
        "# Split dataset into train and test sets\n",
        "X_train, X_test, y_train, y_test = train_test_split(X, y, test_size=0.2, random_state=42)\n",
        "\n",
        "print(\"Train shape:\", X_train.shape, y_train.shape)\n",
        "print(\"Test shape:\", X_test.shape, y_test.shape)\n"
      ],
      "metadata": {
        "colab": {
          "base_uri": "https://localhost:8080/"
        },
        "id": "OhEaLQ2wVxTT",
        "outputId": "f85e364e-bbd5-4db1-8de0-1c64ce49a3e3"
      },
      "execution_count": 10,
      "outputs": [
        {
          "output_type": "stream",
          "name": "stdout",
          "text": [
            "Train shape: (16000, 64, 64, 1) (16000, 10)\n",
            "Test shape: (4000, 64, 64, 1) (4000, 10)\n"
          ]
        }
      ]
    },
    {
      "cell_type": "code",
      "source": [
        "from tensorflow.keras.models import Sequential\n",
        "from tensorflow.keras.layers import Conv2D, MaxPooling2D, Flatten, Dense, Dropout\n",
        "\n",
        "model = Sequential([\n",
        "    Conv2D(32, (3,3), activation='relu', input_shape=(IMG_SIZE, IMG_SIZE, 1)),\n",
        "    MaxPooling2D(2, 2),\n",
        "\n",
        "    Conv2D(64, (3,3), activation='relu'),\n",
        "    MaxPooling2D(2, 2),\n",
        "\n",
        "    Conv2D(128, (3,3), activation='relu'),\n",
        "    MaxPooling2D(2, 2),\n",
        "\n",
        "    Flatten(),\n",
        "    Dense(128, activation='relu'),\n",
        "    Dropout(0.5),\n",
        "    Dense(len(classes), activation='softmax')\n",
        "])\n",
        "\n",
        "model.compile(optimizer='adam', loss='categorical_crossentropy', metrics=['accuracy'])\n",
        "model.summary()\n"
      ],
      "metadata": {
        "colab": {
          "base_uri": "https://localhost:8080/",
          "height": 513
        },
        "id": "TrD4afykVxQ8",
        "outputId": "8735a80d-6b43-42cb-d8b0-f3ed4099eace"
      },
      "execution_count": 11,
      "outputs": [
        {
          "output_type": "stream",
          "name": "stderr",
          "text": [
            "/usr/local/lib/python3.11/dist-packages/keras/src/layers/convolutional/base_conv.py:107: UserWarning: Do not pass an `input_shape`/`input_dim` argument to a layer. When using Sequential models, prefer using an `Input(shape)` object as the first layer in the model instead.\n",
            "  super().__init__(activity_regularizer=activity_regularizer, **kwargs)\n"
          ]
        },
        {
          "output_type": "display_data",
          "data": {
            "text/plain": [
              "\u001b[1mModel: \"sequential\"\u001b[0m\n"
            ],
            "text/html": [
              "<pre style=\"white-space:pre;overflow-x:auto;line-height:normal;font-family:Menlo,'DejaVu Sans Mono',consolas,'Courier New',monospace\"><span style=\"font-weight: bold\">Model: \"sequential\"</span>\n",
              "</pre>\n"
            ]
          },
          "metadata": {}
        },
        {
          "output_type": "display_data",
          "data": {
            "text/plain": [
              "┏━━━━━━━━━━━━━━━━━━━━━━━━━━━━━━━━━┳━━━━━━━━━━━━━━━━━━━━━━━━┳━━━━━━━━━━━━━━━┓\n",
              "┃\u001b[1m \u001b[0m\u001b[1mLayer (type)                   \u001b[0m\u001b[1m \u001b[0m┃\u001b[1m \u001b[0m\u001b[1mOutput Shape          \u001b[0m\u001b[1m \u001b[0m┃\u001b[1m \u001b[0m\u001b[1m      Param #\u001b[0m\u001b[1m \u001b[0m┃\n",
              "┡━━━━━━━━━━━━━━━━━━━━━━━━━━━━━━━━━╇━━━━━━━━━━━━━━━━━━━━━━━━╇━━━━━━━━━━━━━━━┩\n",
              "│ conv2d (\u001b[38;5;33mConv2D\u001b[0m)                 │ (\u001b[38;5;45mNone\u001b[0m, \u001b[38;5;34m62\u001b[0m, \u001b[38;5;34m62\u001b[0m, \u001b[38;5;34m32\u001b[0m)     │           \u001b[38;5;34m320\u001b[0m │\n",
              "├─────────────────────────────────┼────────────────────────┼───────────────┤\n",
              "│ max_pooling2d (\u001b[38;5;33mMaxPooling2D\u001b[0m)    │ (\u001b[38;5;45mNone\u001b[0m, \u001b[38;5;34m31\u001b[0m, \u001b[38;5;34m31\u001b[0m, \u001b[38;5;34m32\u001b[0m)     │             \u001b[38;5;34m0\u001b[0m │\n",
              "├─────────────────────────────────┼────────────────────────┼───────────────┤\n",
              "│ conv2d_1 (\u001b[38;5;33mConv2D\u001b[0m)               │ (\u001b[38;5;45mNone\u001b[0m, \u001b[38;5;34m29\u001b[0m, \u001b[38;5;34m29\u001b[0m, \u001b[38;5;34m64\u001b[0m)     │        \u001b[38;5;34m18,496\u001b[0m │\n",
              "├─────────────────────────────────┼────────────────────────┼───────────────┤\n",
              "│ max_pooling2d_1 (\u001b[38;5;33mMaxPooling2D\u001b[0m)  │ (\u001b[38;5;45mNone\u001b[0m, \u001b[38;5;34m14\u001b[0m, \u001b[38;5;34m14\u001b[0m, \u001b[38;5;34m64\u001b[0m)     │             \u001b[38;5;34m0\u001b[0m │\n",
              "├─────────────────────────────────┼────────────────────────┼───────────────┤\n",
              "│ conv2d_2 (\u001b[38;5;33mConv2D\u001b[0m)               │ (\u001b[38;5;45mNone\u001b[0m, \u001b[38;5;34m12\u001b[0m, \u001b[38;5;34m12\u001b[0m, \u001b[38;5;34m128\u001b[0m)    │        \u001b[38;5;34m73,856\u001b[0m │\n",
              "├─────────────────────────────────┼────────────────────────┼───────────────┤\n",
              "│ max_pooling2d_2 (\u001b[38;5;33mMaxPooling2D\u001b[0m)  │ (\u001b[38;5;45mNone\u001b[0m, \u001b[38;5;34m6\u001b[0m, \u001b[38;5;34m6\u001b[0m, \u001b[38;5;34m128\u001b[0m)      │             \u001b[38;5;34m0\u001b[0m │\n",
              "├─────────────────────────────────┼────────────────────────┼───────────────┤\n",
              "│ flatten (\u001b[38;5;33mFlatten\u001b[0m)               │ (\u001b[38;5;45mNone\u001b[0m, \u001b[38;5;34m4608\u001b[0m)           │             \u001b[38;5;34m0\u001b[0m │\n",
              "├─────────────────────────────────┼────────────────────────┼───────────────┤\n",
              "│ dense (\u001b[38;5;33mDense\u001b[0m)                   │ (\u001b[38;5;45mNone\u001b[0m, \u001b[38;5;34m128\u001b[0m)            │       \u001b[38;5;34m589,952\u001b[0m │\n",
              "├─────────────────────────────────┼────────────────────────┼───────────────┤\n",
              "│ dropout (\u001b[38;5;33mDropout\u001b[0m)               │ (\u001b[38;5;45mNone\u001b[0m, \u001b[38;5;34m128\u001b[0m)            │             \u001b[38;5;34m0\u001b[0m │\n",
              "├─────────────────────────────────┼────────────────────────┼───────────────┤\n",
              "│ dense_1 (\u001b[38;5;33mDense\u001b[0m)                 │ (\u001b[38;5;45mNone\u001b[0m, \u001b[38;5;34m10\u001b[0m)             │         \u001b[38;5;34m1,290\u001b[0m │\n",
              "└─────────────────────────────────┴────────────────────────┴───────────────┘\n"
            ],
            "text/html": [
              "<pre style=\"white-space:pre;overflow-x:auto;line-height:normal;font-family:Menlo,'DejaVu Sans Mono',consolas,'Courier New',monospace\">┏━━━━━━━━━━━━━━━━━━━━━━━━━━━━━━━━━┳━━━━━━━━━━━━━━━━━━━━━━━━┳━━━━━━━━━━━━━━━┓\n",
              "┃<span style=\"font-weight: bold\"> Layer (type)                    </span>┃<span style=\"font-weight: bold\"> Output Shape           </span>┃<span style=\"font-weight: bold\">       Param # </span>┃\n",
              "┡━━━━━━━━━━━━━━━━━━━━━━━━━━━━━━━━━╇━━━━━━━━━━━━━━━━━━━━━━━━╇━━━━━━━━━━━━━━━┩\n",
              "│ conv2d (<span style=\"color: #0087ff; text-decoration-color: #0087ff\">Conv2D</span>)                 │ (<span style=\"color: #00d7ff; text-decoration-color: #00d7ff\">None</span>, <span style=\"color: #00af00; text-decoration-color: #00af00\">62</span>, <span style=\"color: #00af00; text-decoration-color: #00af00\">62</span>, <span style=\"color: #00af00; text-decoration-color: #00af00\">32</span>)     │           <span style=\"color: #00af00; text-decoration-color: #00af00\">320</span> │\n",
              "├─────────────────────────────────┼────────────────────────┼───────────────┤\n",
              "│ max_pooling2d (<span style=\"color: #0087ff; text-decoration-color: #0087ff\">MaxPooling2D</span>)    │ (<span style=\"color: #00d7ff; text-decoration-color: #00d7ff\">None</span>, <span style=\"color: #00af00; text-decoration-color: #00af00\">31</span>, <span style=\"color: #00af00; text-decoration-color: #00af00\">31</span>, <span style=\"color: #00af00; text-decoration-color: #00af00\">32</span>)     │             <span style=\"color: #00af00; text-decoration-color: #00af00\">0</span> │\n",
              "├─────────────────────────────────┼────────────────────────┼───────────────┤\n",
              "│ conv2d_1 (<span style=\"color: #0087ff; text-decoration-color: #0087ff\">Conv2D</span>)               │ (<span style=\"color: #00d7ff; text-decoration-color: #00d7ff\">None</span>, <span style=\"color: #00af00; text-decoration-color: #00af00\">29</span>, <span style=\"color: #00af00; text-decoration-color: #00af00\">29</span>, <span style=\"color: #00af00; text-decoration-color: #00af00\">64</span>)     │        <span style=\"color: #00af00; text-decoration-color: #00af00\">18,496</span> │\n",
              "├─────────────────────────────────┼────────────────────────┼───────────────┤\n",
              "│ max_pooling2d_1 (<span style=\"color: #0087ff; text-decoration-color: #0087ff\">MaxPooling2D</span>)  │ (<span style=\"color: #00d7ff; text-decoration-color: #00d7ff\">None</span>, <span style=\"color: #00af00; text-decoration-color: #00af00\">14</span>, <span style=\"color: #00af00; text-decoration-color: #00af00\">14</span>, <span style=\"color: #00af00; text-decoration-color: #00af00\">64</span>)     │             <span style=\"color: #00af00; text-decoration-color: #00af00\">0</span> │\n",
              "├─────────────────────────────────┼────────────────────────┼───────────────┤\n",
              "│ conv2d_2 (<span style=\"color: #0087ff; text-decoration-color: #0087ff\">Conv2D</span>)               │ (<span style=\"color: #00d7ff; text-decoration-color: #00d7ff\">None</span>, <span style=\"color: #00af00; text-decoration-color: #00af00\">12</span>, <span style=\"color: #00af00; text-decoration-color: #00af00\">12</span>, <span style=\"color: #00af00; text-decoration-color: #00af00\">128</span>)    │        <span style=\"color: #00af00; text-decoration-color: #00af00\">73,856</span> │\n",
              "├─────────────────────────────────┼────────────────────────┼───────────────┤\n",
              "│ max_pooling2d_2 (<span style=\"color: #0087ff; text-decoration-color: #0087ff\">MaxPooling2D</span>)  │ (<span style=\"color: #00d7ff; text-decoration-color: #00d7ff\">None</span>, <span style=\"color: #00af00; text-decoration-color: #00af00\">6</span>, <span style=\"color: #00af00; text-decoration-color: #00af00\">6</span>, <span style=\"color: #00af00; text-decoration-color: #00af00\">128</span>)      │             <span style=\"color: #00af00; text-decoration-color: #00af00\">0</span> │\n",
              "├─────────────────────────────────┼────────────────────────┼───────────────┤\n",
              "│ flatten (<span style=\"color: #0087ff; text-decoration-color: #0087ff\">Flatten</span>)               │ (<span style=\"color: #00d7ff; text-decoration-color: #00d7ff\">None</span>, <span style=\"color: #00af00; text-decoration-color: #00af00\">4608</span>)           │             <span style=\"color: #00af00; text-decoration-color: #00af00\">0</span> │\n",
              "├─────────────────────────────────┼────────────────────────┼───────────────┤\n",
              "│ dense (<span style=\"color: #0087ff; text-decoration-color: #0087ff\">Dense</span>)                   │ (<span style=\"color: #00d7ff; text-decoration-color: #00d7ff\">None</span>, <span style=\"color: #00af00; text-decoration-color: #00af00\">128</span>)            │       <span style=\"color: #00af00; text-decoration-color: #00af00\">589,952</span> │\n",
              "├─────────────────────────────────┼────────────────────────┼───────────────┤\n",
              "│ dropout (<span style=\"color: #0087ff; text-decoration-color: #0087ff\">Dropout</span>)               │ (<span style=\"color: #00d7ff; text-decoration-color: #00d7ff\">None</span>, <span style=\"color: #00af00; text-decoration-color: #00af00\">128</span>)            │             <span style=\"color: #00af00; text-decoration-color: #00af00\">0</span> │\n",
              "├─────────────────────────────────┼────────────────────────┼───────────────┤\n",
              "│ dense_1 (<span style=\"color: #0087ff; text-decoration-color: #0087ff\">Dense</span>)                 │ (<span style=\"color: #00d7ff; text-decoration-color: #00d7ff\">None</span>, <span style=\"color: #00af00; text-decoration-color: #00af00\">10</span>)             │         <span style=\"color: #00af00; text-decoration-color: #00af00\">1,290</span> │\n",
              "└─────────────────────────────────┴────────────────────────┴───────────────┘\n",
              "</pre>\n"
            ]
          },
          "metadata": {}
        },
        {
          "output_type": "display_data",
          "data": {
            "text/plain": [
              "\u001b[1m Total params: \u001b[0m\u001b[38;5;34m683,914\u001b[0m (2.61 MB)\n"
            ],
            "text/html": [
              "<pre style=\"white-space:pre;overflow-x:auto;line-height:normal;font-family:Menlo,'DejaVu Sans Mono',consolas,'Courier New',monospace\"><span style=\"font-weight: bold\"> Total params: </span><span style=\"color: #00af00; text-decoration-color: #00af00\">683,914</span> (2.61 MB)\n",
              "</pre>\n"
            ]
          },
          "metadata": {}
        },
        {
          "output_type": "display_data",
          "data": {
            "text/plain": [
              "\u001b[1m Trainable params: \u001b[0m\u001b[38;5;34m683,914\u001b[0m (2.61 MB)\n"
            ],
            "text/html": [
              "<pre style=\"white-space:pre;overflow-x:auto;line-height:normal;font-family:Menlo,'DejaVu Sans Mono',consolas,'Courier New',monospace\"><span style=\"font-weight: bold\"> Trainable params: </span><span style=\"color: #00af00; text-decoration-color: #00af00\">683,914</span> (2.61 MB)\n",
              "</pre>\n"
            ]
          },
          "metadata": {}
        },
        {
          "output_type": "display_data",
          "data": {
            "text/plain": [
              "\u001b[1m Non-trainable params: \u001b[0m\u001b[38;5;34m0\u001b[0m (0.00 B)\n"
            ],
            "text/html": [
              "<pre style=\"white-space:pre;overflow-x:auto;line-height:normal;font-family:Menlo,'DejaVu Sans Mono',consolas,'Courier New',monospace\"><span style=\"font-weight: bold\"> Non-trainable params: </span><span style=\"color: #00af00; text-decoration-color: #00af00\">0</span> (0.00 B)\n",
              "</pre>\n"
            ]
          },
          "metadata": {}
        }
      ]
    },
    {
      "cell_type": "code",
      "source": [
        "history = model.fit(\n",
        "    X_train, y_train,\n",
        "    epochs=15,\n",
        "    batch_size=64,\n",
        "    validation_split=0.1,\n",
        "    verbose=2\n",
        ")\n"
      ],
      "metadata": {
        "colab": {
          "base_uri": "https://localhost:8080/"
        },
        "id": "UO1kMUOEVxOa",
        "outputId": "ccd73efe-5c22-4318-e4be-97a99b57b33c"
      },
      "execution_count": 12,
      "outputs": [
        {
          "output_type": "stream",
          "name": "stdout",
          "text": [
            "Epoch 1/15\n",
            "225/225 - 8s - 37ms/step - accuracy: 0.6885 - loss: 0.8819 - val_accuracy: 0.9850 - val_loss: 0.0714\n",
            "Epoch 2/15\n",
            "225/225 - 2s - 8ms/step - accuracy: 0.9541 - loss: 0.1261 - val_accuracy: 0.9875 - val_loss: 0.0248\n",
            "Epoch 3/15\n",
            "225/225 - 2s - 8ms/step - accuracy: 0.9745 - loss: 0.0697 - val_accuracy: 0.9906 - val_loss: 0.0147\n",
            "Epoch 4/15\n",
            "225/225 - 2s - 8ms/step - accuracy: 0.9801 - loss: 0.0495 - val_accuracy: 0.9919 - val_loss: 0.0141\n",
            "Epoch 5/15\n",
            "225/225 - 3s - 11ms/step - accuracy: 0.9844 - loss: 0.0335 - val_accuracy: 0.9906 - val_loss: 0.0124\n",
            "Epoch 6/15\n",
            "225/225 - 3s - 12ms/step - accuracy: 0.9835 - loss: 0.0345 - val_accuracy: 0.9894 - val_loss: 0.0206\n",
            "Epoch 7/15\n",
            "225/225 - 2s - 11ms/step - accuracy: 0.9844 - loss: 0.0336 - val_accuracy: 0.9912 - val_loss: 0.0117\n",
            "Epoch 8/15\n",
            "225/225 - 2s - 8ms/step - accuracy: 0.9845 - loss: 0.0316 - val_accuracy: 0.9906 - val_loss: 0.0124\n",
            "Epoch 9/15\n",
            "225/225 - 2s - 8ms/step - accuracy: 0.9867 - loss: 0.0263 - val_accuracy: 0.9912 - val_loss: 0.0132\n",
            "Epoch 10/15\n",
            "225/225 - 2s - 8ms/step - accuracy: 0.9848 - loss: 0.0319 - val_accuracy: 0.9912 - val_loss: 0.0129\n",
            "Epoch 11/15\n",
            "225/225 - 2s - 8ms/step - accuracy: 0.9877 - loss: 0.0260 - val_accuracy: 0.9925 - val_loss: 0.0136\n",
            "Epoch 12/15\n",
            "225/225 - 2s - 9ms/step - accuracy: 0.9877 - loss: 0.0218 - val_accuracy: 0.9912 - val_loss: 0.0118\n",
            "Epoch 13/15\n",
            "225/225 - 2s - 8ms/step - accuracy: 0.9885 - loss: 0.0224 - val_accuracy: 0.9944 - val_loss: 0.0115\n",
            "Epoch 14/15\n",
            "225/225 - 2s - 11ms/step - accuracy: 0.9878 - loss: 0.0229 - val_accuracy: 0.9906 - val_loss: 0.0117\n",
            "Epoch 15/15\n",
            "225/225 - 2s - 8ms/step - accuracy: 0.9891 - loss: 0.0212 - val_accuracy: 0.9912 - val_loss: 0.0120\n"
          ]
        }
      ]
    },
    {
      "cell_type": "code",
      "source": [
        "loss, acc = model.evaluate(X_test, y_test)\n",
        "print(f\"Test accuracy: {acc*100:.2f}%\")\n"
      ],
      "metadata": {
        "colab": {
          "base_uri": "https://localhost:8080/"
        },
        "id": "jxNHS4jTVxMD",
        "outputId": "f292bc3c-3b04-43bc-f719-9e8d31517ae2"
      },
      "execution_count": 13,
      "outputs": [
        {
          "output_type": "stream",
          "name": "stdout",
          "text": [
            "\u001b[1m125/125\u001b[0m \u001b[32m━━━━━━━━━━━━━━━━━━━━\u001b[0m\u001b[37m\u001b[0m \u001b[1m1s\u001b[0m 3ms/step - accuracy: 0.9902 - loss: 0.0149\n",
            "Test accuracy: 99.12%\n"
          ]
        }
      ]
    }
  ],
  "metadata": {
    "kernelspec": {
      "display_name": "Python 3",
      "name": "python3"
    },
    "language_info": {
      "name": "python",
      "version": "3.11"
    },
    "colab": {
      "provenance": [],
      "gpuType": "T4"
    },
    "accelerator": "GPU"
  },
  "nbformat": 4,
  "nbformat_minor": 0
}